{
  "cells": [
    {
      "cell_type": "markdown",
      "id": "42289889-bd57-434e-9637-d3e354756316",
      "metadata": {
        "id": "42289889-bd57-434e-9637-d3e354756316"
      },
      "source": [
        "<center> <img src = https://raw.githubusercontent.com/AndreyRysistov/DatasetsForPandas/main/hh%20label.jpg alt=\"drawing\" style=\"width:400px;\">"
      ]
    },
    {
      "cell_type": "markdown",
      "id": "829cb75b-f14e-4ba8-9195-7ba929a7d656",
      "metadata": {
        "id": "829cb75b-f14e-4ba8-9195-7ba929a7d656",
        "tags": []
      },
      "source": [
        "# Проект «Анализ вакансий из HeadHunter»\n",
        "   "
      ]
    },
    {
      "cell_type": "code",
      "execution_count": 1,
      "id": "dccfde33-2452-43fb-a8a5-5c6ebc02a71d",
      "metadata": {
        "id": "dccfde33-2452-43fb-a8a5-5c6ebc02a71d"
      },
      "outputs": [],
      "source": [
        "import pandas as pd\n",
        "import psycopg2"
      ]
    },
    {
      "cell_type": "code",
      "execution_count": 2,
      "id": "oVKH4ehvf8Ay",
      "metadata": {
        "id": "oVKH4ehvf8Ay"
      },
      "outputs": [],
      "source": [
        "# параметры подключения скрыты"
      ]
    },
    {
      "cell_type": "code",
      "execution_count": 3,
      "id": "G4X_q8KBf7SF",
      "metadata": {
        "id": "G4X_q8KBf7SF"
      },
      "outputs": [],
      "source": [
        "connection = psycopg2.connect(\n",
        "    dbname=DBNAME,\n",
        "    user=USER,\n",
        "    host=HOST,\n",
        "    password=PASSWORD,\n",
        "    port=PORT\n",
        ")"
      ]
    },
    {
      "cell_type": "markdown",
      "id": "0dc6476b-7a00-44f1-ac93-6e3baed33a29",
      "metadata": {
        "id": "0dc6476b-7a00-44f1-ac93-6e3baed33a29"
      },
      "source": [
        "## 3. Предварительный анализ данных"
      ]
    },
    {
      "cell_type": "markdown",
      "id": "889782b6-8d1c-410e-8920-e57f27917c64",
      "metadata": {
        "id": "889782b6-8d1c-410e-8920-e57f27917c64"
      },
      "source": [
        "1. Напишите запрос, который посчитает количество вакансий в базе (вакансии находятся в таблице `vacancies`)."
      ]
    },
    {
      "cell_type": "code",
      "execution_count": 4,
      "id": "bc39e68e-ed02-4ee2-9235-7258a2f867a8",
      "metadata": {
        "id": "bc39e68e-ed02-4ee2-9235-7258a2f867a8"
      },
      "outputs": [
        {
          "name": "stderr",
          "output_type": "stream",
          "text": [
            "/var/folders/gg/ypfqxl792w1dxtmn5g8btp6r0000gn/T/ipykernel_44100/922322903.py:10: UserWarning: pandas only supports SQLAlchemy connectable (engine/connection) or database string URI or sqlite3 DBAPI2 connection. Other DBAPI2 objects are not tested. Please consider using SQLAlchemy.\n",
            "  df_3_1 = pd.read_sql_query(query_3_1, connection)\n"
          ]
        },
        {
          "name": "stdout",
          "output_type": "stream",
          "text": [
            "Всего вакансий в базе - 49197\n"
          ]
        }
      ],
      "source": [
        "# текст запроса\n",
        "query_3_1 = f'''\n",
        "SELECT \n",
        "    COUNT(*) AS count_id  -- Подсчитываем количество всех строк в таблице\n",
        "FROM\n",
        "    vacancies  -- Таблица, в которой находятся вакансии\n",
        "\n",
        "'''\n",
        "# Выполнение запроса и сохранение результата в DataFrame\n",
        "df_3_1 = pd.read_sql_query(query_3_1, connection)\n",
        "# Выводим общее количество вакансий в базе\n",
        "print(f'Всего вакансий в базе - {df_3_1.iloc[0, 0]}')"
      ]
    },
    {
      "cell_type": "markdown",
      "id": "4fa5676a",
      "metadata": {},
      "source": [
        "**Результат запроса:**\n",
        "\n",
        "- Всего вакансий в базе - **49 197**"
      ]
    },
    {
      "cell_type": "markdown",
      "id": "b583485d-1f9e-494e-ada4-80ffff7c53d6",
      "metadata": {
        "id": "b583485d-1f9e-494e-ada4-80ffff7c53d6"
      },
      "source": [
        "2. Напишите запрос, который посчитает количество работодателей (таблица `employers`)."
      ]
    },
    {
      "cell_type": "code",
      "execution_count": 5,
      "id": "5408c52c-3407-4a63-b25b-1aafa2322d28",
      "metadata": {
        "id": "5408c52c-3407-4a63-b25b-1aafa2322d28"
      },
      "outputs": [
        {
          "name": "stdout",
          "output_type": "stream",
          "text": [
            "Всего работодателей в базе - 23501\n"
          ]
        },
        {
          "name": "stderr",
          "output_type": "stream",
          "text": [
            "/var/folders/gg/ypfqxl792w1dxtmn5g8btp6r0000gn/T/ipykernel_44100/1114410602.py:9: UserWarning: pandas only supports SQLAlchemy connectable (engine/connection) or database string URI or sqlite3 DBAPI2 connection. Other DBAPI2 objects are not tested. Please consider using SQLAlchemy.\n",
            "  df_3_2 = pd.read_sql_query(query_3_2, connection)\n"
          ]
        }
      ],
      "source": [
        "# текст запроса\n",
        "query_3_2 = f'''\n",
        "SELECT \n",
        "    COUNT(id) AS count_id  -- Подсчитываем количество записей по столбцу id\n",
        "FROM\n",
        "    employers\n",
        "'''\n",
        "# Выполнение SQL-запроса и загрузка результатов в DataFrame\n",
        "df_3_2 = pd.read_sql_query(query_3_2, connection)\n",
        "# Выводим общее количество работодателей\n",
        "print(f'Всего работодателей в базе - {df_3_2.iloc[0, 0]}')"
      ]
    },
    {
      "cell_type": "markdown",
      "id": "9ef4035a",
      "metadata": {},
      "source": [
        "**Результат запроса:**\n",
        "\n",
        "- Всего работодателей в базе - **23501**"
      ]
    },
    {
      "cell_type": "markdown",
      "id": "a2bfff1f-c975-4bf6-84be-2185d79dcb76",
      "metadata": {
        "id": "a2bfff1f-c975-4bf6-84be-2185d79dcb76"
      },
      "source": [
        "3. Посчитайте с помощью запроса количество регионов (таблица `areas`)."
      ]
    },
    {
      "cell_type": "code",
      "execution_count": 6,
      "id": "1m8QJwBYhey6",
      "metadata": {
        "id": "1m8QJwBYhey6"
      },
      "outputs": [
        {
          "name": "stderr",
          "output_type": "stream",
          "text": [
            "/var/folders/gg/ypfqxl792w1dxtmn5g8btp6r0000gn/T/ipykernel_44100/2261865300.py:9: UserWarning: pandas only supports SQLAlchemy connectable (engine/connection) or database string URI or sqlite3 DBAPI2 connection. Other DBAPI2 objects are not tested. Please consider using SQLAlchemy.\n",
            "  df_3_3 = pd.read_sql_query(query_3_3, connection)\n"
          ]
        },
        {
          "name": "stdout",
          "output_type": "stream",
          "text": [
            "Всего регионов в базе - 1362\n"
          ]
        }
      ],
      "source": [
        "# текст запроса\n",
        "query_3_3 = f'''\n",
        "SELECT \n",
        "    COUNT(id) AS count_id  -- Подсчитываем количество записей по столбцу id\n",
        "FROM\n",
        "    areas\n",
        "'''\n",
        "# Выполнение SQL-запроса и загрузка результатов в DataFrame\n",
        "df_3_3 = pd.read_sql_query(query_3_3, connection)\n",
        "# Выводим общее количество регионов\n",
        "print(f'Всего регионов в базе - {df_3_3.iloc[0, 0]}')"
      ]
    },
    {
      "cell_type": "markdown",
      "id": "97987d42",
      "metadata": {},
      "source": [
        "**Результат запроса:**\n",
        "\n",
        "- Всего регионов в базе - **1362**"
      ]
    },
    {
      "cell_type": "markdown",
      "id": "41bb59f3-53cc-4a67-a5bc-bedf573955e4",
      "metadata": {
        "id": "41bb59f3-53cc-4a67-a5bc-bedf573955e4"
      },
      "source": [
        "4. Посчитайте с помощью запроса количество сфер деятельности в базе (таблица `industries`)."
      ]
    },
    {
      "cell_type": "code",
      "execution_count": 7,
      "id": "d286cf4c-707b-4cd2-9190-7ab3587d04a1",
      "metadata": {
        "id": "d286cf4c-707b-4cd2-9190-7ab3587d04a1"
      },
      "outputs": [
        {
          "name": "stderr",
          "output_type": "stream",
          "text": [
            "/var/folders/gg/ypfqxl792w1dxtmn5g8btp6r0000gn/T/ipykernel_44100/922175300.py:9: UserWarning: pandas only supports SQLAlchemy connectable (engine/connection) or database string URI or sqlite3 DBAPI2 connection. Other DBAPI2 objects are not tested. Please consider using SQLAlchemy.\n",
            "  df_3_4 = pd.read_sql_query(query_3_4, connection)\n"
          ]
        },
        {
          "name": "stdout",
          "output_type": "stream",
          "text": [
            "Всего сфер деятельности в базе - 294\n"
          ]
        }
      ],
      "source": [
        "# текст запроса\n",
        "query_3_4 = f'''\n",
        "SELECT \n",
        "    COUNT(id) AS count_id  -- Подсчитываем количество записей по столбцу id\n",
        "FROM\n",
        "    industries\n",
        "'''\n",
        "# Выполнение SQL-запроса и загрузка результатов в DataFrame\n",
        "df_3_4 = pd.read_sql_query(query_3_4, connection)\n",
        "# Выводим общее количество сфер деятельности\n",
        "print(f'Всего сфер деятельности в базе - {df_3_4.iloc[0, 0]}')"
      ]
    },
    {
      "cell_type": "markdown",
      "id": "c7d34061",
      "metadata": {},
      "source": [
        "**Результат запроса:**\n",
        "\n",
        "- Всего сфер деятельности в базе - **294**"
      ]
    },
    {
      "cell_type": "markdown",
      "id": "ed4de9ce",
      "metadata": {},
      "source": [
        "***"
      ]
    },
    {
      "cell_type": "markdown",
      "id": "1f7d5c21",
      "metadata": {},
      "source": [
        "## **Выводы** по предварительному анализу данных:\n",
        "\n",
        "- В базе данных содержится **49 197 вакансий** - достаточно широкий выбор предложений для соискателей;\n",
        "- Зарегистрировано **23 501 работодателей**;\n",
        "- В базе данных представлены вакансии из **1 362 регионов**, что дает представление о широком географическом охвате;\n",
        "- В базе содержится информация о **294 сферах деятельности**, что отражает разнообразие областей для трудоустройства."
      ]
    },
    {
      "cell_type": "markdown",
      "id": "8d62a9f3-f64e-4fe7-bdac-c4dffa16155e",
      "metadata": {
        "id": "8d62a9f3-f64e-4fe7-bdac-c4dffa16155e"
      },
      "source": [
        "## 4. Детальный анализ вакансий"
      ]
    },
    {
      "cell_type": "markdown",
      "id": "93053d3d-b284-481a-9cf7-012d7014c0e0",
      "metadata": {
        "id": "93053d3d-b284-481a-9cf7-012d7014c0e0"
      },
      "source": [
        "1. Напишите запрос, который позволит узнать, сколько (`cnt`) вакансий в каждом регионе (`area`).\n",
        "Отсортируйте по количеству вакансий в порядке убывания."
      ]
    },
    {
      "cell_type": "code",
      "execution_count": 8,
      "id": "3f069da6-fdc9-4ae7-b514-fafe2675efd3",
      "metadata": {
        "id": "3f069da6-fdc9-4ae7-b514-fafe2675efd3"
      },
      "outputs": [
        {
          "name": "stderr",
          "output_type": "stream",
          "text": [
            "/var/folders/gg/ypfqxl792w1dxtmn5g8btp6r0000gn/T/ipykernel_44100/1459607353.py:15: UserWarning: pandas only supports SQLAlchemy connectable (engine/connection) or database string URI or sqlite3 DBAPI2 connection. Other DBAPI2 objects are not tested. Please consider using SQLAlchemy.\n",
            "  df_4_1 = pd.read_sql_query(query_4_1, connection)\n"
          ]
        },
        {
          "data": {
            "text/html": [
              "<div>\n",
              "<style scoped>\n",
              "    .dataframe tbody tr th:only-of-type {\n",
              "        vertical-align: middle;\n",
              "    }\n",
              "\n",
              "    .dataframe tbody tr th {\n",
              "        vertical-align: top;\n",
              "    }\n",
              "\n",
              "    .dataframe thead th {\n",
              "        text-align: right;\n",
              "    }\n",
              "</style>\n",
              "<table border=\"1\" class=\"dataframe\">\n",
              "  <thead>\n",
              "    <tr style=\"text-align: right;\">\n",
              "      <th></th>\n",
              "      <th>name</th>\n",
              "      <th>cnt</th>\n",
              "    </tr>\n",
              "  </thead>\n",
              "  <tbody>\n",
              "    <tr>\n",
              "      <th>0</th>\n",
              "      <td>Москва</td>\n",
              "      <td>5333</td>\n",
              "    </tr>\n",
              "    <tr>\n",
              "      <th>1</th>\n",
              "      <td>Санкт-Петербург</td>\n",
              "      <td>2851</td>\n",
              "    </tr>\n",
              "    <tr>\n",
              "      <th>2</th>\n",
              "      <td>Минск</td>\n",
              "      <td>2112</td>\n",
              "    </tr>\n",
              "    <tr>\n",
              "      <th>3</th>\n",
              "      <td>Новосибирск</td>\n",
              "      <td>2006</td>\n",
              "    </tr>\n",
              "    <tr>\n",
              "      <th>4</th>\n",
              "      <td>Алматы</td>\n",
              "      <td>1892</td>\n",
              "    </tr>\n",
              "  </tbody>\n",
              "</table>\n",
              "</div>"
            ],
            "text/plain": [
              "              name   cnt\n",
              "0           Москва  5333\n",
              "1  Санкт-Петербург  2851\n",
              "2            Минск  2112\n",
              "3      Новосибирск  2006\n",
              "4           Алматы  1892"
            ]
          },
          "metadata": {},
          "output_type": "display_data"
        }
      ],
      "source": [
        "# текст запроса\n",
        "query_4_1 = f'''\n",
        "SELECT\n",
        "    a.name,               -- Название региона\n",
        "    COUNT(v.id) AS cnt    -- Количество вакансий в каждом регионе\n",
        "FROM\n",
        "    areas AS a\n",
        "JOIN\n",
        "    vacancies AS v ON a.id = v.area_id\n",
        "GROUP BY a.id             -- Группируем по регионам\n",
        "ORDER BY cnt DESC         -- Сортировка по количеству вакансий в порядке убывания\n",
        "LIMIT 5                   -- Ограничиваем вывод 5 регионами (Пятёрка лидеров)\n",
        "'''\n",
        "# Выполнение SQL-запроса и загрузка результатов в DataFrame\n",
        "df_4_1 = pd.read_sql_query(query_4_1, connection)\n",
        "# Отображаем результаты запроса\n",
        "display(df_4_1)"
      ]
    },
    {
      "cell_type": "markdown",
      "id": "48ce28ed",
      "metadata": {},
      "source": [
        "**Результат запроса:**\n",
        "\n",
        "**Пятёрка лидеров** по количеству вакансий:\n",
        "\n",
        "- Москва;\n",
        "- Санкт-Петербург;\n",
        "- Минск;\n",
        "- Новосибирск;\n",
        "- Алматы."
      ]
    },
    {
      "cell_type": "markdown",
      "id": "4266f0b6-1646-492a-88b4-2f6a46502135",
      "metadata": {
        "id": "4266f0b6-1646-492a-88b4-2f6a46502135"
      },
      "source": [
        "2. Напишите запрос, чтобы определить у какого количества вакансий заполнено хотя бы одно из двух полей с зарплатой."
      ]
    },
    {
      "cell_type": "code",
      "execution_count": 9,
      "id": "0c44b350-72eb-4d65-8b54-a1fc449ba9fd",
      "metadata": {
        "id": "0c44b350-72eb-4d65-8b54-a1fc449ba9fd"
      },
      "outputs": [
        {
          "name": "stderr",
          "output_type": "stream",
          "text": [
            "/var/folders/gg/ypfqxl792w1dxtmn5g8btp6r0000gn/T/ipykernel_44100/4115230290.py:12: UserWarning: pandas only supports SQLAlchemy connectable (engine/connection) or database string URI or sqlite3 DBAPI2 connection. Other DBAPI2 objects are not tested. Please consider using SQLAlchemy.\n",
            "  df_4_2 = pd.read_sql_query(query_4_2, connection)\n"
          ]
        },
        {
          "name": "stdout",
          "output_type": "stream",
          "text": [
            "Всего вакансий, у которых заполнено хотя бы одно из двух полей с зарплатой - 24073\n"
          ]
        }
      ],
      "source": [
        "# текст запроса\n",
        "query_4_2 = f'''\n",
        "SELECT\n",
        "    COUNT(id)\n",
        "FROM\n",
        "    vacancies\n",
        "WHERE\n",
        "    salary_from IS NOT NULL OR salary_to IS NOT NULL\n",
        "    -- Проверка, что хотя бы одно из полей зарплаты не NULL\n",
        "'''\n",
        "# Выполнение SQL-запроса и загрузка результатов в DataFrame\n",
        "df_4_2 = pd.read_sql_query(query_4_2, connection)\n",
        "# Выводим результат\n",
        "print(f'Всего вакансий, у которых заполнено хотя бы одно из двух полей с зарплатой - {df_4_2.iloc[0, 0]}')"
      ]
    },
    {
      "cell_type": "markdown",
      "id": "66304d4f",
      "metadata": {},
      "source": [
        "**Результат запроса:**\n",
        "\n",
        "- Всего **вакансий**, у которых заполнено **хотя бы одно из двух полей** с зарплатой - **24073**"
      ]
    },
    {
      "cell_type": "markdown",
      "id": "635c4d5d-f323-4c66-b428-50a088120aa0",
      "metadata": {
        "id": "635c4d5d-f323-4c66-b428-50a088120aa0"
      },
      "source": [
        "3. Найдите средние значения для нижней и верхней границы зарплатной вилки. Округлите значения до **целого числа**."
      ]
    },
    {
      "cell_type": "code",
      "execution_count": 10,
      "id": "603cdbe4-0ec3-4106-8eaf-c73fcdd29165",
      "metadata": {
        "id": "603cdbe4-0ec3-4106-8eaf-c73fcdd29165"
      },
      "outputs": [
        {
          "name": "stderr",
          "output_type": "stream",
          "text": [
            "/var/folders/gg/ypfqxl792w1dxtmn5g8btp6r0000gn/T/ipykernel_44100/2755569060.py:10: UserWarning: pandas only supports SQLAlchemy connectable (engine/connection) or database string URI or sqlite3 DBAPI2 connection. Other DBAPI2 objects are not tested. Please consider using SQLAlchemy.\n",
            "  df_4_3 = pd.read_sql_query(query_4_3, connection)\n"
          ]
        },
        {
          "name": "stdout",
          "output_type": "stream",
          "text": [
            "Среднее значение для нижней границы зарплаты - 71065.0\n",
            "Верхнее значение для верхней границы зарплаты - 110537.0\n"
          ]
        }
      ],
      "source": [
        "# текст запроса\n",
        "query_4_3 = f'''\n",
        "SELECT\n",
        "    ROUND(AVG(salary_from)),  -- Среднее значение для нижней границы зарплаты, округленное до целого числа\n",
        "    ROUND(AVG(salary_to))     -- Среднее значение для верхней границы зарплаты, округленное до целого числа\n",
        "FROM\n",
        "    vacancies\n",
        "'''\n",
        "# Выполнение SQL-запроса и загрузка результатов в DataFrame\n",
        "df_4_3 = pd.read_sql_query(query_4_3, connection)\n",
        "# Выводим среднее значение для нижней границы\n",
        "print(f'Среднее значение для нижней границы зарплаты - {df_4_3.iloc[0, 0]}')\n",
        "# Выводим среднее значение для верхней границы\n",
        "print(f'Верхнее значение для верхней границы зарплаты - {df_4_3.iloc[0, 1]}')\n"
      ]
    },
    {
      "cell_type": "markdown",
      "id": "5b935e87",
      "metadata": {},
      "source": [
        "**Результат запроса:**\n",
        "\n",
        "- **Среднее значение** для **нижней** границы зарплаты - **71065.0**\n",
        "\n",
        "- **Верхнее значение** для **верхней** границы зарплаты - **110537.0**"
      ]
    },
    {
      "cell_type": "markdown",
      "id": "f3fdaec9-5fd3-4260-9cf5-1d7406b628a5",
      "metadata": {
        "id": "f3fdaec9-5fd3-4260-9cf5-1d7406b628a5"
      },
      "source": [
        "4. Напишите запрос, который выведет количество вакансий для каждого сочетания типа рабочего графика (`schedule`) и типа трудоустройства (`employment`), используемого в вакансиях. Результат отсортируйте по убыванию количества.\n"
      ]
    },
    {
      "cell_type": "code",
      "execution_count": 11,
      "id": "1ea710ec-871b-431e-9462-c7d0fd87011b",
      "metadata": {
        "id": "1ea710ec-871b-431e-9462-c7d0fd87011b"
      },
      "outputs": [
        {
          "name": "stderr",
          "output_type": "stream",
          "text": [
            "/var/folders/gg/ypfqxl792w1dxtmn5g8btp6r0000gn/T/ipykernel_44100/3202441373.py:16: UserWarning: pandas only supports SQLAlchemy connectable (engine/connection) or database string URI or sqlite3 DBAPI2 connection. Other DBAPI2 objects are not tested. Please consider using SQLAlchemy.\n",
            "  df_4_4 = pd.read_sql_query(query_4_4, connection)\n"
          ]
        },
        {
          "data": {
            "text/html": [
              "<div>\n",
              "<style scoped>\n",
              "    .dataframe tbody tr th:only-of-type {\n",
              "        vertical-align: middle;\n",
              "    }\n",
              "\n",
              "    .dataframe tbody tr th {\n",
              "        vertical-align: top;\n",
              "    }\n",
              "\n",
              "    .dataframe thead th {\n",
              "        text-align: right;\n",
              "    }\n",
              "</style>\n",
              "<table border=\"1\" class=\"dataframe\">\n",
              "  <thead>\n",
              "    <tr style=\"text-align: right;\">\n",
              "      <th></th>\n",
              "      <th>schedule</th>\n",
              "      <th>employment</th>\n",
              "      <th>count_vacancies</th>\n",
              "    </tr>\n",
              "  </thead>\n",
              "  <tbody>\n",
              "    <tr>\n",
              "      <th>0</th>\n",
              "      <td>Удаленная работа</td>\n",
              "      <td>Полная занятость</td>\n",
              "      <td>7802</td>\n",
              "    </tr>\n",
              "  </tbody>\n",
              "</table>\n",
              "</div>"
            ],
            "text/plain": [
              "           schedule        employment  count_vacancies\n",
              "0  Удаленная работа  Полная занятость             7802"
            ]
          },
          "metadata": {},
          "output_type": "display_data"
        }
      ],
      "source": [
        "# текст запроса\n",
        "query_4_4 = f'''\n",
        "SELECT\n",
        "    schedule,\n",
        "    employment,\n",
        "    COUNT(id) as count_vacancies  -- Количество вакансий для данной пары\n",
        "FROM\n",
        "    vacancies\n",
        "GROUP BY \n",
        "    schedule, employment -- Группируем по рабочему графику и типу трудоустройства\n",
        "ORDER BY \n",
        "    count_vacancies DESC  -- Сортируем по количеству вакансий в порядке убывания\n",
        "LIMIT 1 OFFSET 1 -- Пропускаем первую строку, чтобы получить второе место\n",
        "'''\n",
        "# Выполнение SQL-запроса и загрузка результатов в DataFrame\n",
        "df_4_4 = pd.read_sql_query(query_4_4, connection)\n",
        "# Отображаем результат запроса\n",
        "display(df_4_4)"
      ]
    },
    {
      "cell_type": "markdown",
      "id": "c4d90b0a",
      "metadata": {},
      "source": [
        "**Результат запроса:**\n",
        "\n",
        "- Пара **Удалённая работа — Полная занятость** занимает **второе место** по популярности среди сочетаний **рабочего графика и типа трудоустройства**."
      ]
    },
    {
      "cell_type": "markdown",
      "id": "0136ffee-0ead-4a6b-b608-61d1c753a438",
      "metadata": {
        "id": "0136ffee-0ead-4a6b-b608-61d1c753a438"
      },
      "source": [
        "5. Напишите запрос, выводящий значения поля «Требуемый опыт работы» (`experience`) в порядке возрастания количества вакансий, в которых указан данный вариант опыта."
      ]
    },
    {
      "cell_type": "code",
      "execution_count": 12,
      "id": "5b3a8e79-f7ab-4008-b767-12aea3a205ea",
      "metadata": {
        "id": "5b3a8e79-f7ab-4008-b767-12aea3a205ea"
      },
      "outputs": [
        {
          "name": "stderr",
          "output_type": "stream",
          "text": [
            "/var/folders/gg/ypfqxl792w1dxtmn5g8btp6r0000gn/T/ipykernel_44100/560169754.py:12: UserWarning: pandas only supports SQLAlchemy connectable (engine/connection) or database string URI or sqlite3 DBAPI2 connection. Other DBAPI2 objects are not tested. Please consider using SQLAlchemy.\n",
            "  df_4_5 = pd.read_sql_query(query_4_5, connection)\n"
          ]
        },
        {
          "name": "stdout",
          "output_type": "stream",
          "text": [
            "Опыт работы в порядке возрастания количества вакансий:\n",
            "- Более 6 лет;\n",
            "- Нет опыта;\n",
            "- От 3 до 6 лет;\n",
            "- От 1 года до 3 лет;\n"
          ]
        }
      ],
      "source": [
        "# текст запроса\n",
        "query_4_5 = f'''\n",
        "SELECT\n",
        "    experience,\n",
        "    COUNT(id) as count_vacancies\n",
        "FROM\n",
        "    vacancies\n",
        "GROUP BY experience  -- Группируем по опыту работы\n",
        "ORDER BY count_vacancies ASC  -- Сортируем по возрастанию количества вакансий\n",
        "'''\n",
        "# Выполнение SQL-запроса и загрузка результатов в DataFrame\n",
        "df_4_5 = pd.read_sql_query(query_4_5, connection)\n",
        "# Выводим результат запроса через цикл\n",
        "print(\"Опыт работы в порядке возрастания количества вакансий:\")\n",
        "for i in df_4_5['experience']:\n",
        "    print(f'- {i};')"
      ]
    },
    {
      "cell_type": "markdown",
      "id": "b19a5541",
      "metadata": {},
      "source": [
        "**Результат запроса:**\n",
        "\n",
        "**Опыт работы** в порядке **возрастания количества вакансий**:\n",
        "- Более 6 лет;\n",
        "- Нет опыта;\n",
        "- От 3 до 6 лет;\n",
        "- От 1 года до 3 лет."
      ]
    },
    {
      "cell_type": "markdown",
      "id": "oq2b7n1QpIka",
      "metadata": {
        "id": "oq2b7n1QpIka"
      },
      "source": [
        "***"
      ]
    },
    {
      "cell_type": "markdown",
      "id": "e9deaf51",
      "metadata": {},
      "source": [
        "### Выводы по детальному анализу вакансий:\n",
        "\n",
        "1. **Пятерка регионов с наибольшим количеством вакансий**:  \n",
        "   - Москва;\n",
        "   - Санкт-Петербург;\n",
        "   - Минск;  \n",
        "   - Новосибирск;  \n",
        "   - Алматы;  \n",
        "\n",
        "2. **Количество вакансий с указанием хотя бы одного поля зарплаты**:  \n",
        "   - Всего **24 073 вакансии** содержат заполненное значение для поля **\"нижняя граница зарплаты\" или \"верхняя граница зарплаты\"**;  \n",
        "\n",
        "3. **Средние значения зарплатной вилки**:  \n",
        "   - Средняя **нижняя** граница зарплаты: **71 065**;  \n",
        "   - Средняя **верхняя** граница зарплаты: **110 537**; \n",
        "\n",
        "4. **Самое популярное сочетание графика работы и типа занятости**:  \n",
        "   - Второе место по популярности занимает сочетание: **Удалённая работа — Полная занятость**; \n",
        "\n",
        "5. **Распределение вакансий по требуемому опыту работы (в порядке увеличения количества вакансий)**:  \n",
        "   - **Более 6 лет** — минимальное количество вакансий;\n",
        "   - **Нет опыта**;\n",
        "   - **От 3 до 6 лет**;\n",
        "   - **От 1 года до 3 лет** — максимальное количество вакансий.  "
      ]
    },
    {
      "cell_type": "markdown",
      "id": "7ea20ab6-04a7-40a0-adec-443a0e5a42c3",
      "metadata": {
        "id": "7ea20ab6-04a7-40a0-adec-443a0e5a42c3"
      },
      "source": [
        "## 5. Анализ работодателей"
      ]
    },
    {
      "cell_type": "markdown",
      "id": "968aed80-74ef-4ffb-b5bf-c65b84e9caea",
      "metadata": {
        "id": "968aed80-74ef-4ffb-b5bf-c65b84e9caea"
      },
      "source": [
        "1. Напишите запрос, который позволит узнать, какие работодатели находятся на первом и пятом месте по количеству вакансий."
      ]
    },
    {
      "cell_type": "code",
      "execution_count": 13,
      "id": "f2d62796-d400-4ec1-a675-88112739a50e",
      "metadata": {
        "id": "f2d62796-d400-4ec1-a675-88112739a50e"
      },
      "outputs": [
        {
          "name": "stderr",
          "output_type": "stream",
          "text": [
            "/var/folders/gg/ypfqxl792w1dxtmn5g8btp6r0000gn/T/ipykernel_44100/284203189.py:31: UserWarning: pandas only supports SQLAlchemy connectable (engine/connection) or database string URI or sqlite3 DBAPI2 connection. Other DBAPI2 objects are not tested. Please consider using SQLAlchemy.\n",
            "  df_5_1 = pd.read_sql_query(query_5_1, connection)\n"
          ]
        },
        {
          "name": "stdout",
          "output_type": "stream",
          "text": [
            "На 1 месте: Яндекс\n",
            "На 5 месте: Газпром нефть\n"
          ]
        }
      ],
      "source": [
        "# текст запроса\n",
        "query_5_1 = f'''\n",
        "-- Выбираем первого работодателя по числу вакансий\n",
        "(SELECT\n",
        "    e.name AS employers_name,\n",
        "    COUNT(v.id) AS vacancies_count\n",
        "FROM\n",
        "    employers AS e\n",
        "JOIN\n",
        "    vacancies AS v ON e.id = v.employer_id\n",
        "GROUP BY e.id                             -- Группируем по работодателю\n",
        "ORDER BY COUNT(v.id) DESC                 -- Сортируем по числу вакансий по убыванию\n",
        "LIMIT 1)                                  -- ТОП 1й работодатель по числу вакансий \n",
        "\n",
        "UNION  -- Объединение\n",
        "\n",
        "-- Выбираем пятого работодателя по числу вакансий\n",
        "(SELECT\n",
        "    e.name,\n",
        "    COUNT(v.id)\n",
        "FROM\n",
        "    employers AS e\n",
        "JOIN\n",
        "    vacancies AS v ON e.id = v.employer_id\n",
        "GROUP BY e.id\n",
        "ORDER BY COUNT(v.id) DESC\n",
        "LIMIT 1 OFFSET 4)                         -- ТОП 5й работодатель по числу вакансий (Пропускаем первые 4 записи)\n",
        "ORDER BY vacancies_count DESC             -- Сортируем результат UNION по числу вакансий\n",
        "'''\n",
        "# Выполнение SQL-запроса и загрузка результатов в DataFrame\n",
        "df_5_1 = pd.read_sql_query(query_5_1, connection)\n",
        "# Выводим имена работодателей на первом и пятом местах\n",
        "print(f'На 1 месте: {df_5_1['employers_name'].iloc[0]}\\nНа 5 месте: {df_5_1['employers_name'].iloc[1]}')"
      ]
    },
    {
      "cell_type": "markdown",
      "id": "529082dc",
      "metadata": {},
      "source": [
        "**Результаты запроса:**\n",
        "\n",
        "- На **1 месте**: **Яндекс**;\n",
        "- На **5 месте**: **Газпром нефть**."
      ]
    },
    {
      "cell_type": "markdown",
      "id": "68377cfc-b378-43dc-ab7d-1195abf2c515",
      "metadata": {
        "id": "68377cfc-b378-43dc-ab7d-1195abf2c515"
      },
      "source": [
        "2. Напишите запрос, который для каждого региона выведет количество работодателей и вакансий в нём.\n",
        "Среди регионов, в которых нет вакансий, найдите тот, в котором наибольшее количество работодателей.\n"
      ]
    },
    {
      "cell_type": "code",
      "execution_count": 14,
      "id": "dd7df27a-e3e8-412e-a21a-5d389b71e891",
      "metadata": {
        "id": "dd7df27a-e3e8-412e-a21a-5d389b71e891"
      },
      "outputs": [
        {
          "name": "stderr",
          "output_type": "stream",
          "text": [
            "/var/folders/gg/ypfqxl792w1dxtmn5g8btp6r0000gn/T/ipykernel_44100/2479689886.py:19: UserWarning: pandas only supports SQLAlchemy connectable (engine/connection) or database string URI or sqlite3 DBAPI2 connection. Other DBAPI2 objects are not tested. Please consider using SQLAlchemy.\n",
            "  df_5_2 = pd.read_sql_query(query_5_2, connection)\n"
          ]
        },
        {
          "name": "stdout",
          "output_type": "stream",
          "text": [
            "Регион с наибольшим количеством работодателей среди тех, где нет вакансии - Россия\n"
          ]
        }
      ],
      "source": [
        "# текст запроса\n",
        "query_5_2 = f'''\n",
        "SELECT \n",
        "    a.name AS area_name, \n",
        "    COUNT(e.id) AS employers_count, \n",
        "    COUNT(v.id) AS vacancies_count\n",
        "FROM\n",
        "    areas AS a\n",
        "LEFT JOIN                               -- LEFT чтобы учесть регионы, в которых вакансии или работодатели отсутствуют.\n",
        "    vacancies AS v ON v.area_id = a.id  -- Присоединяем вакансии по ID региона\n",
        "LEFT JOIN \n",
        "    employers AS e ON e.area = a.id     -- Присоединяем работодателей по ID региона\n",
        "GROUP BY a.id                           -- Группируем по региону\n",
        "ORDER BY \n",
        "    vacancies_count ASC,  -- Cортируем по числу вакансий (по возрастанию)\n",
        "    employers_count DESC; -- Cортируем по числу работодателей (по убыванию)\n",
        "'''\n",
        "# Выполнение SQL-запроса и загрузка результатов в DataFrame\n",
        "df_5_2 = pd.read_sql_query(query_5_2, connection)\n",
        "# Вывод результата\n",
        "print(f'Регион с наибольшим количеством работодателей среди тех, где нет вакансии - {df_5_2['area_name'].loc[0]}')"
      ]
    },
    {
      "cell_type": "markdown",
      "id": "01c67404",
      "metadata": {},
      "source": [
        "**Результат запроса:**\n",
        "\n",
        "- Регион с **наибольшим количеством работодателей**, но без вакансий: **Россия**."
      ]
    },
    {
      "cell_type": "markdown",
      "id": "f2fe0acb-ab1a-4e15-9326-2560e22d73c1",
      "metadata": {
        "id": "f2fe0acb-ab1a-4e15-9326-2560e22d73c1"
      },
      "source": [
        "3. Для каждого работодателя посчитайте количество регионов, в которых он публикует свои вакансии. Отсортируйте результат по убыванию количества.\n"
      ]
    },
    {
      "cell_type": "code",
      "execution_count": 15,
      "id": "6271f8ad-bd2e-4196-ae4a-5b39c4c1010e",
      "metadata": {
        "id": "6271f8ad-bd2e-4196-ae4a-5b39c4c1010e"
      },
      "outputs": [
        {
          "name": "stderr",
          "output_type": "stream",
          "text": [
            "/var/folders/gg/ypfqxl792w1dxtmn5g8btp6r0000gn/T/ipykernel_44100/4194983408.py:17: UserWarning: pandas only supports SQLAlchemy connectable (engine/connection) or database string URI or sqlite3 DBAPI2 connection. Other DBAPI2 objects are not tested. Please consider using SQLAlchemy.\n",
            "  df_5_3 = pd.read_sql_query(query_5_3, connection)\n"
          ]
        },
        {
          "name": "stdout",
          "output_type": "stream",
          "text": [
            "Работодатель с максимальным охватом регионов публикует вакансии в 181 регионе.\n"
          ]
        }
      ],
      "source": [
        "# текст запроса\n",
        "query_5_3 = f'''\n",
        "SELECT \n",
        "    e.name AS employers_name, \n",
        "    count(DISTINCT a.id) AS area_count  -- Количество уникальных регионов\n",
        "FROM\n",
        "    employers AS e \n",
        "JOIN \n",
        "    vacancies AS v ON e.id = v.employer_id  -- Присоединяем вакансии по ID работодателя\n",
        "JOIN \n",
        "    areas AS a ON a.id = v.area_id  -- Присоединяем регионы по ID региона\n",
        "GROUP BY e.id                       -- Группируем по работодателям\n",
        "ORDER BY area_count DESC            -- Сортируем по количеству регионов (по убыванию)\n",
        "LIMIT 1                             -- Берём запись с максимальным количеством регионов\n",
        "'''\n",
        "# Выполнение SQL-запроса и загрузка результатов в DataFrame\n",
        "df_5_3 = pd.read_sql_query(query_5_3, connection)\n",
        "# Вывод результата\n",
        "print(f'Работодатель с максимальным охватом регионов публикует вакансии в {df_5_3['area_count'].iloc[0]} регионе.')"
      ]
    },
    {
      "cell_type": "markdown",
      "id": "340ed9e9",
      "metadata": {},
      "source": [
        "**Результат запроса:**\n",
        "\n",
        "- Работодатель с **максимальным охватом регионов** публикует вакансии в **181 регионе.**"
      ]
    },
    {
      "cell_type": "markdown",
      "id": "eab2206d-d95b-468b-8e5f-34381abf0ce7",
      "metadata": {
        "id": "eab2206d-d95b-468b-8e5f-34381abf0ce7"
      },
      "source": [
        "4. Напишите запрос для подсчёта количества работодателей, у которых не указана сфера деятельности."
      ]
    },
    {
      "cell_type": "code",
      "execution_count": 16,
      "id": "80defb23-bfb1-4a18-8be6-bf36aa7165d5",
      "metadata": {
        "id": "80defb23-bfb1-4a18-8be6-bf36aa7165d5"
      },
      "outputs": [
        {
          "name": "stdout",
          "output_type": "stream",
          "text": [
            "Количество работодателей без указанной сферы деятельности: 8419\n"
          ]
        },
        {
          "name": "stderr",
          "output_type": "stream",
          "text": [
            "/var/folders/gg/ypfqxl792w1dxtmn5g8btp6r0000gn/T/ipykernel_44100/2471786367.py:14: UserWarning: pandas only supports SQLAlchemy connectable (engine/connection) or database string URI or sqlite3 DBAPI2 connection. Other DBAPI2 objects are not tested. Please consider using SQLAlchemy.\n",
            "  df_5_4 = pd.read_sql_query(query_5_4, connection)\n"
          ]
        }
      ],
      "source": [
        "# текст запроса\n",
        "query_5_4 = f'''\n",
        "SELECT \n",
        "    COUNT(e.id) AS employers_without_industries\n",
        "FROM\n",
        "    employers AS e \n",
        "LEFT JOIN               -- LEFT чтобы включить всех работодателей, даже если для них нет данных о сферах деятельности\n",
        "    employers_industries AS e_i ON e.id = e_i.employer_id\n",
        "LEFT JOIN  \n",
        "    industries AS i ON i.id = e_i.industry_id\n",
        "WHERE i.name IS NULL    -- Условие: сфера деятельности не указана\n",
        "'''\n",
        "# Выполнение SQL-запроса и загрузка результатов в DataFrame\n",
        "df_5_4 = pd.read_sql_query(query_5_4, connection)\n",
        "# Вывод результата\n",
        "print(f'Количество работодателей без указанной сферы деятельности: {df_5_4.iloc[0, 0]}')"
      ]
    },
    {
      "cell_type": "markdown",
      "id": "0d1b6d13",
      "metadata": {},
      "source": [
        "**Результат запроса:**\n",
        "\n",
        "- Количество **работодателей без указанной сферы деятельности**: **8419**"
      ]
    },
    {
      "cell_type": "markdown",
      "id": "0112af31-f6b0-4e3b-82ab-71296e752e5e",
      "metadata": {
        "id": "0112af31-f6b0-4e3b-82ab-71296e752e5e"
      },
      "source": [
        "5. Напишите запрос, чтобы узнать название компании, находящейся на третьем месте в алфавитном списке (по названию) компаний, у которых указано четыре сферы деятельности."
      ]
    },
    {
      "cell_type": "code",
      "execution_count": 17,
      "id": "973b0cfc-a972-470a-8b4a-68744ef220c4",
      "metadata": {
        "id": "973b0cfc-a972-470a-8b4a-68744ef220c4"
      },
      "outputs": [
        {
          "name": "stderr",
          "output_type": "stream",
          "text": [
            "/var/folders/gg/ypfqxl792w1dxtmn5g8btp6r0000gn/T/ipykernel_44100/906096170.py:17: UserWarning: pandas only supports SQLAlchemy connectable (engine/connection) or database string URI or sqlite3 DBAPI2 connection. Other DBAPI2 objects are not tested. Please consider using SQLAlchemy.\n",
            "  df_5_5 = pd.read_sql_query(query_5_5, connection)\n"
          ]
        },
        {
          "name": "stdout",
          "output_type": "stream",
          "text": [
            "Название компании на третьем месте в алфавитном списке, у которой указано 4 сферы деятельности: 2ГИС\n"
          ]
        }
      ],
      "source": [
        "# текст запроса\n",
        "query_5_5 = f'''\n",
        "SELECT \n",
        "    e.name as company_name\n",
        "FROM\n",
        "    employers AS e \n",
        "JOIN \n",
        "    employers_industries AS e_i ON e.id = e_i.employer_id  -- Соединение работодателей с их сферами деятельности\n",
        "JOIN  \n",
        "    industries AS i ON i.id = e_i.industry_id              -- Присоединение сфер деятельности\n",
        "GROUP BY e.id             -- Группировка по работодателям\n",
        "HAVING COUNT(i.id) = 4    -- Условие ровно 4 сферы деятельности\n",
        "ORDER BY company_name     -- Сортировка в алфавитном порядке\n",
        "LIMIT 1 OFFSET 2          -- Третья запись \n",
        "'''\n",
        "# Выполнение SQL-запроса и загрузка результатов в DataFrame\n",
        "df_5_5 = pd.read_sql_query(query_5_5, connection)\n",
        "# Вывод результата\n",
        "print(f'Название компании на третьем месте в алфавитном списке, у которой указано 4 сферы деятельности: {df_5_5.iloc[0, 0]}')"
      ]
    },
    {
      "cell_type": "markdown",
      "id": "547a71f5",
      "metadata": {},
      "source": [
        "**Результат запроса:**\n",
        "\n",
        "- Название **компании** на **третьем месте в алфавитном списке**, у которой указано **4 сферы** деятельности: **2ГИС**"
      ]
    },
    {
      "cell_type": "markdown",
      "id": "3bfcfdaf-755d-4d2b-8ed8-326201dc07ab",
      "metadata": {
        "id": "3bfcfdaf-755d-4d2b-8ed8-326201dc07ab"
      },
      "source": [
        "6. С помощью запроса выясните, у какого количества работодателей в качестве сферы деятельности указана «Разработка программного обеспечения».\n"
      ]
    },
    {
      "cell_type": "code",
      "execution_count": 18,
      "id": "ad3f270f-2991-47eb-929b-e8f88a55b0d1",
      "metadata": {
        "id": "ad3f270f-2991-47eb-929b-e8f88a55b0d1"
      },
      "outputs": [
        {
          "name": "stderr",
          "output_type": "stream",
          "text": [
            "/var/folders/gg/ypfqxl792w1dxtmn5g8btp6r0000gn/T/ipykernel_44100/624947111.py:15: UserWarning: pandas only supports SQLAlchemy connectable (engine/connection) or database string URI or sqlite3 DBAPI2 connection. Other DBAPI2 objects are not tested. Please consider using SQLAlchemy.\n",
            "  df_5_6 = pd.read_sql_query(query_5_6, connection)\n"
          ]
        },
        {
          "name": "stdout",
          "output_type": "stream",
          "text": [
            "Число работодателей с сферой деятельности «Разработка программного обеспечения»: 3553\n"
          ]
        }
      ],
      "source": [
        "# текст запроса\n",
        "query_5_6 = f'''\n",
        "SELECT \n",
        "    COUNT(DISTINCT e.id) AS employer_count -- Подсчёт уникальных работодателей\n",
        "FROM\n",
        "    employers AS e \n",
        "JOIN \n",
        "    employers_industries AS e_i ON e.id = e_i.employer_id  -- Соединение работодателей с их сферами деятельности\n",
        "JOIN  \n",
        "    industries AS i ON i.id = e_i.industry_id  -- Присоединение информации о сферах деятельности\n",
        "WHERE \n",
        "    i.name = 'Разработка программного обеспечения'  -- Интересует только \"Разработка программного обеспечения\"\n",
        "'''\n",
        "# Выполнение SQL-запроса и загрузка результатов в DataFrame\n",
        "df_5_6 = pd.read_sql_query(query_5_6, connection)\n",
        "# Вывод результата\n",
        "print(f'Число работодателей с сферой деятельности «Разработка программного обеспечения»: {df_5_6.iloc[0, 0]}')"
      ]
    },
    {
      "cell_type": "markdown",
      "id": "5365f1c9",
      "metadata": {},
      "source": [
        "**Результат запроса:**\n",
        "\n",
        "- Число **работодателей** с сферой деятельности **«Разработка программного обеспечения»**: **3553**"
      ]
    },
    {
      "cell_type": "markdown",
      "id": "c893936b",
      "metadata": {},
      "source": [
        "7. Для компании «Яндекс» выведите список [городов-миллионников](https://ru.wikipedia.org/wiki/%D0%93%D0%BE%D1%80%D0%BE%D0%B4%D0%B0-%D0%BC%D0%B8%D0%BB%D0%BB%D0%B8%D0%BE%D0%BD%D0%B5%D1%80%D1%8B_%D0%A0%D0%BE%D1%81%D1%81%D0%B8%D0%B8), в которых представлены вакансии компании, вместе с количеством вакансий в этих регионах. Также добавьте строку \"Total\" с общим количеством вакансий компании. Результат отсортируйте по возрастанию количества.\n",
        "\n",
        "    Если возникнут трудности с этим заданием, посмотрите материалы модуля 6.4 «Как получать данные из веб-источников и API»."
      ]
    },
    {
      "cell_type": "code",
      "execution_count": 19,
      "id": "ZdfrL6gIs1Pn",
      "metadata": {
        "id": "ZdfrL6gIs1Pn"
      },
      "outputs": [],
      "source": [
        "# код для получения списка городов-милионников\n",
        "# Ссылка на страницу Википедии с таблицей городов-миллионников\n",
        "url = 'https://ru.wikipedia.org/wiki/%D0%93%D0%BE%D1%80%D0%BE%D0%B4%D0%B0-%D0%BC%D0%B8%D0%BB%D0%BB%D0%B8%D0%BE%D0%BD%D0%B5%D1%80%D1%8B_%D0%A0%D0%BE%D1%81%D1%81%D0%B8%D0%B8'\n",
        "# Чтение таблиц с указанной страницы\n",
        "tables = pd.read_html(url)\n",
        "# Таблица с информацией о городах находится под индексом 0\n",
        "df = tables[0]\n",
        "million_cities = df['Город']\n",
        "# Преобразование списка городов в строку для SQL-запроса\n",
        "million_cities_sql = \"', '\".join(million_cities)"
      ]
    },
    {
      "cell_type": "code",
      "execution_count": 20,
      "id": "5a0e32a4-e68a-4365-8a39-2fe24c542c36",
      "metadata": {
        "id": "5a0e32a4-e68a-4365-8a39-2fe24c542c36"
      },
      "outputs": [
        {
          "name": "stderr",
          "output_type": "stream",
          "text": [
            "/var/folders/gg/ypfqxl792w1dxtmn5g8btp6r0000gn/T/ipykernel_44100/754177886.py:33: UserWarning: pandas only supports SQLAlchemy connectable (engine/connection) or database string URI or sqlite3 DBAPI2 connection. Other DBAPI2 objects are not tested. Please consider using SQLAlchemy.\n",
            "  df_5_7 = pd.read_sql_query(query_5_7, connection)\n"
          ]
        },
        {
          "name": "stdout",
          "output_type": "stream",
          "text": [
            "Всего строк в выборке: 17\n",
            "Результат в строке \"Total\": 485\n"
          ]
        }
      ],
      "source": [
        "# текст запроса\n",
        "query_5_7 = f'''\n",
        "(SELECT \n",
        "    a.name AS city_of_Yandex_company, \n",
        "    COUNT(v.id) AS vacancies_count\n",
        "FROM\n",
        "    employers AS e \n",
        "JOIN \n",
        "    vacancies AS v ON e.id = v.employer_id  -- Связь работодателей с вакансиями\n",
        "JOIN \n",
        "    areas AS a ON a.id = v.area_id          -- Связь вакансий с регионами\n",
        "WHERE \n",
        "    e.name = 'Яндекс'                       -- Фильтр по имени работодателя\n",
        "    AND a.name IN ('{million_cities_sql}')  -- Фильтр по городам-миллионникам\n",
        "GROUP BY city_of_Yandex_company)            -- Группировка по названию города\n",
        "\n",
        "UNION  -- Объединение\n",
        "\n",
        "(SELECT \n",
        "    'Total',           -- Название для строки с общей суммой\n",
        "    COUNT(v.id)        -- Общее количество вакансий Яндекса в городах-миллионниках\n",
        "FROM\n",
        "    employers AS e \n",
        "JOIN \n",
        "    vacancies AS v ON e.id = v.employer_id\n",
        "JOIN \n",
        "    areas AS a ON a.id = v.area_id\n",
        "WHERE \n",
        "    e.name = 'Яндекс' AND a.name IN ('{million_cities_sql}'))\n",
        "ORDER BY vacancies_count ASC    -- Сортировка по количеству вакансий результата объединения\n",
        "'''\n",
        "# Выполнение SQL-запроса и загрузка результатов в DataFrame\n",
        "df_5_7 = pd.read_sql_query(query_5_7, connection)\n",
        "# Вывод общего количества строк в выборке\n",
        "print(f'Всего строк в выборке: {df_5_7.shape[0]}')\n",
        "# Фильтрация для строки \"Total\" (с общим количеством вакансий)\n",
        "mask_5_7 = df_5_7['city_of_yandex_company'] == 'Total'\n",
        "# Извлечение значения из строки \"Total\" с общим числом вакансий\n",
        "print(f'Результат в строке \"Total\": {df_5_7[mask_5_7]['vacancies_count'].iloc[0]}')"
      ]
    },
    {
      "cell_type": "markdown",
      "id": "03fb7313",
      "metadata": {},
      "source": [
        "**Результат запроса:**\n",
        "\n",
        "- Всего **строк в выборке**: **17**\n",
        "- Результат в строке **\"Total\"**: **485**"
      ]
    },
    {
      "cell_type": "markdown",
      "id": "04966e40-3bc3-4dc8-9ba2-e80580ce3abc",
      "metadata": {
        "id": "04966e40-3bc3-4dc8-9ba2-e80580ce3abc"
      },
      "source": [
        "***"
      ]
    },
    {
      "cell_type": "markdown",
      "id": "593c7f18",
      "metadata": {},
      "source": [
        "## Выводы по детальному анализу вакансий:\n",
        "1. Топ **5 работодателей** по числу **вакансий**:\n",
        "\n",
        "- На **первом** месте: **Яндекс**;\n",
        "- На **пятом** месте: **Газпром нефть**;\n",
        "\n",
        "2. Регион с **наибольшим количеством работодателей**, но **без вакансий**:\n",
        "\n",
        "- **Россия**;\n",
        "- Это может свидетельствовать о том, что многие компании в регионе не ищут сотрудников в данный момент;\n",
        "\n",
        "3. Работодатель с **максимальным охватом регионов**:\n",
        "\n",
        "- Работодатель, который публикует вакансии в наибольшем количестве регионов, охватывает **181 регион**;\n",
        "- Данным работодателем является **Яндекс**;\n",
        "- Такой охват регионов предполагает, что компания работает в различных регионах страны и является одной из самых крупных;\n",
        "\n",
        "4. Работодатели **без указанной сферы деятельности**:\n",
        "\n",
        "- **8419** работодателей **не указали сферу деятельности** в своих профилях;\n",
        "- Это довольно **значительное число**, что говорит о том, что определенные компании не задумываются о точном описании своей сферы деятельности;\n",
        "- Возможно, работодатели **не ориентированы на четкую нишу** и предлагают вакансии по **множеству направлений**;\n",
        "\n",
        "5. Работодатель на **третьем месте** в алфавитном списке **с 4 сферами деятельности**:\n",
        "\n",
        "- Компания на третьем месте в алфавитном списке, имеющая 4 указанные сферы деятельности: **2ГИС**;\n",
        "- Это означает, что 2ГИС является **многопрофильной компанией** с разнообразными направлениями работы;\n",
        "\n",
        "6. Число работодателей **с сферой деятельности «Разработка программного обеспечения»**:\n",
        "\n",
        "- **3553** работодателя указали сферу деятельности как «Разработка программного обеспечения»;\n",
        "- Подтверждает **высокий спрос** на специалистов в IT-сфере;\n",
        "\n",
        "7. Результат по вакансиям компании **«Яндекс» в городах-миллионниках**:\n",
        "\n",
        "- Общее **количество вакансий** компании «Яндекс» в городах-миллионниках: **485 вакансий**;\n",
        "- Это подтверждает выводы выше о том, что «Яндекс» активно расширяет свою команду."
      ]
    },
    {
      "cell_type": "markdown",
      "id": "b1ef156a-efcb-49ce-bb23-90763e7f35b2",
      "metadata": {
        "id": "b1ef156a-efcb-49ce-bb23-90763e7f35b2",
        "tags": []
      },
      "source": [
        "## 6. Предметный анализ"
      ]
    },
    {
      "cell_type": "markdown",
      "id": "b9cd50a0-992d-4988-8463-2b2b1c4629b4",
      "metadata": {
        "id": "b9cd50a0-992d-4988-8463-2b2b1c4629b4"
      },
      "source": [
        "1. Сколько вакансий имеет отношение к данным?\n",
        "\n",
        "    Считаем, что вакансия имеет отношение к данным, если в её названии содержатся слова `'data'` или `'данн'`.\n",
        "\n",
        "    *Обратите внимание, что названия вакансий могут быть написаны в любом регистре.*\n"
      ]
    },
    {
      "cell_type": "code",
      "execution_count": 21,
      "id": "54ab0e50-c0f1-47cc-a54b-bc5c8bc363f9",
      "metadata": {
        "id": "54ab0e50-c0f1-47cc-a54b-bc5c8bc363f9"
      },
      "outputs": [
        {
          "name": "stderr",
          "output_type": "stream",
          "text": [
            "/var/folders/gg/ypfqxl792w1dxtmn5g8btp6r0000gn/T/ipykernel_44100/4106120203.py:12: UserWarning: pandas only supports SQLAlchemy connectable (engine/connection) or database string URI or sqlite3 DBAPI2 connection. Other DBAPI2 objects are not tested. Please consider using SQLAlchemy.\n",
            "  df_6_1 = pd.read_sql_query(query_6_1, connection)\n"
          ]
        },
        {
          "name": "stdout",
          "output_type": "stream",
          "text": [
            "Число вакансий, имеющих отношение к данным: 1771\n"
          ]
        }
      ],
      "source": [
        "# текст запроса\n",
        "query_6_1 = f'''\n",
        "SELECT \n",
        "    COUNT(v.id)\n",
        "FROM\n",
        "    vacancies AS v\n",
        "WHERE \n",
        "    LOWER(v.name) LIKE '%data%'      -- Используем LOWER чтобы не переживать за разный регистр (приводим к нижнему регистру)\n",
        "    OR LOWER(v.name) LIKE '%данн%'   \n",
        "'''\n",
        "# Выполнение SQL-запроса и загрузка результатов в DataFrame\n",
        "df_6_1 = pd.read_sql_query(query_6_1, connection)\n",
        "# Выводим результат запроса\n",
        "print(f'Число вакансий, имеющих отношение к данным: {df_6_1.iloc[0, 0]}')"
      ]
    },
    {
      "cell_type": "markdown",
      "id": "2000530a",
      "metadata": {},
      "source": [
        "**Результат запроса:**\n",
        "\n",
        "- Число вакансий, имеющих **отношение к данным** - **1771**"
      ]
    },
    {
      "cell_type": "markdown",
      "id": "4dea20cb-a36b-474a-a0b9-e08e8e3857a5",
      "metadata": {
        "id": "4dea20cb-a36b-474a-a0b9-e08e8e3857a5"
      },
      "source": [
        "2. Сколько есть подходящих вакансий для начинающего дата-сайентиста? Будем считать вакансиями для дата-сайентистов такие, в названии которых есть хотя бы одно из следующих сочетаний:\n",
        "    * 'data scientist'\n",
        "    * 'data science'\n",
        "    * 'исследователь данных'\n",
        "    * 'ML' (здесь не нужно брать вакансии по HTML)\n",
        "    * 'machine learning'\n",
        "    * 'машинн%обучен%'\n",
        "\n",
        "    **В следующих заданиях мы продолжим работать с вакансиями по этому условию.**\n",
        "\n",
        "    Считаем вакансиями для специалистов уровня Junior следующие:\n",
        "    + в названии есть слово “junior” **или**\n",
        "    + требуемый опыт — «Нет опыта» **или**\n",
        "    + тип трудоустройства — «Стажировка».\n"
      ]
    },
    {
      "cell_type": "code",
      "execution_count": 22,
      "id": "9c61b3c0-bb66-46c9-ae1e-81d3f5752b4a",
      "metadata": {
        "id": "9c61b3c0-bb66-46c9-ae1e-81d3f5752b4a"
      },
      "outputs": [
        {
          "name": "stderr",
          "output_type": "stream",
          "text": [
            "/var/folders/gg/ypfqxl792w1dxtmn5g8btp6r0000gn/T/ipykernel_44100/3647760032.py:24: UserWarning: pandas only supports SQLAlchemy connectable (engine/connection) or database string URI or sqlite3 DBAPI2 connection. Other DBAPI2 objects are not tested. Please consider using SQLAlchemy.\n",
            "  df_6_2 = pd.read_sql_query(query_6_2, connection)\n"
          ]
        },
        {
          "name": "stdout",
          "output_type": "stream",
          "text": [
            "Число вакансий, подходящих для начинающего дата-сайентиста: 51\n"
          ]
        }
      ],
      "source": [
        "# текст запроса\n",
        "query_6_2 = f'''\n",
        "SELECT \n",
        "    COUNT(v.id) AS junior_vacancies_count\n",
        "FROM\n",
        "    vacancies AS v\n",
        "WHERE \n",
        "    (\n",
        "        LOWER(v.name) LIKE '%data scientist%'             -- Включаем вакансии c патернами\n",
        "        OR LOWER(v.name) LIKE '%data science%'           \n",
        "        OR LOWER(v.name) LIKE '%исследователь данных%'\n",
        "        OR (LOWER(v.name) LIKE '%ml%' AND LOWER(v.name) NOT LIKE '%html%')  -- Включаем \"ML\", исключая \"HTML\"\n",
        "        OR LOWER(v.name) LIKE '%machine learning%'\n",
        "        OR LOWER(v.name) LIKE '%машинн%обучен%'\n",
        "    )\n",
        "    AND\n",
        "    (\n",
        "        LOWER(v.name) LIKE '%junior%'                -- Учитываем вакансии с указанием уровня \"Junior\"\n",
        "        OR LOWER(v.experience) LIKE '%нет опыта%'    -- Учитываем вакансии, где требуется \"Нет опыта\"\n",
        "        OR LOWER(v.employment) LIKE '%стажировка%'   -- Включаем вакансии с типом трудоустройства \"Стажировка\"\n",
        "    )\n",
        "'''\n",
        "# Выполнение SQL-запроса и загрузка результатов в DataFrame\n",
        "df_6_2 = pd.read_sql_query(query_6_2, connection)\n",
        "# Выводим результат\n",
        "print(f'Число вакансий, подходящих для начинающего дата-сайентиста: {df_6_2.iloc[0, 0]}')"
      ]
    },
    {
      "cell_type": "markdown",
      "id": "fba88aeb",
      "metadata": {},
      "source": [
        "**Результат запроса:**\n",
        "\n",
        "- Число **вакансий**, подходящих для **начинающего дата-сайентиста**: **51**"
      ]
    },
    {
      "cell_type": "markdown",
      "id": "eedceb80-c5ca-480e-b27a-278dfb8b4438",
      "metadata": {
        "id": "eedceb80-c5ca-480e-b27a-278dfb8b4438"
      },
      "source": [
        "3. Сколько есть вакансий для DS, в которых в качестве ключевого навыка указан SQL или Postgres?\n",
        "\n",
        "    *Критерии для отнесения вакансии к DS указаны в предыдущем задании.*"
      ]
    },
    {
      "cell_type": "code",
      "execution_count": 23,
      "id": "69621713-0cc5-4f1b-a1d7-bb144fa6148c",
      "metadata": {
        "id": "69621713-0cc5-4f1b-a1d7-bb144fa6148c"
      },
      "outputs": [
        {
          "name": "stderr",
          "output_type": "stream",
          "text": [
            "/var/folders/gg/ypfqxl792w1dxtmn5g8btp6r0000gn/T/ipykernel_44100/222512688.py:23: UserWarning: pandas only supports SQLAlchemy connectable (engine/connection) or database string URI or sqlite3 DBAPI2 connection. Other DBAPI2 objects are not tested. Please consider using SQLAlchemy.\n",
            "  df_6_3 = pd.read_sql_query(query_6_3, connection)\n"
          ]
        },
        {
          "name": "stdout",
          "output_type": "stream",
          "text": [
            "Число вакансий, в которых в качестве ключевого навыка указан SQL или Postgres: 229\n"
          ]
        }
      ],
      "source": [
        "# текст запроса\n",
        "query_6_3 = f'''\n",
        "SELECT \n",
        "    COUNT(v.id) AS vacancies_count\n",
        "FROM\n",
        "    vacancies AS v\n",
        "WHERE \n",
        "    (\n",
        "        LOWER(v.name) LIKE '%data scientist%'\n",
        "        OR LOWER(v.name) LIKE '%data science%'\n",
        "        OR LOWER(v.name) LIKE '%исследователь данных%'\n",
        "        OR (LOWER(v.name) LIKE '%ml%' AND LOWER(v.name) NOT LIKE '%html%')  \n",
        "        OR LOWER(v.name) LIKE '%machine learning%'\n",
        "        OR LOWER(v.name) LIKE '%машинн%обучен%'\n",
        "    )\n",
        "    AND\n",
        "    (\n",
        "        LOWER(v.key_skills) LIKE '%sql%'            -- В ключевых навыках упоминается \"SQL\"\n",
        "        OR LOWER(v.key_skills) LIKE '%postgres%'    -- В ключевых навыках упоминается \"Postgres\"\n",
        "    )\n",
        "'''\n",
        "# Выполнение SQL-запроса и загрузка результатов в DataFrame\n",
        "df_6_3 = pd.read_sql_query(query_6_3, connection)\n",
        "# Выводим результат\n",
        "print(f'Число вакансий, в которых в качестве ключевого навыка указан SQL или Postgres: {df_6_3.iloc[0, 0]}')"
      ]
    },
    {
      "cell_type": "markdown",
      "id": "7a9d03ce",
      "metadata": {},
      "source": [
        "**Результат запроса:**\n",
        "\n",
        "- Число **вакансий**, в которых **в качестве ключевого навыка указан SQL** или **Postgres** - **229**"
      ]
    },
    {
      "cell_type": "markdown",
      "id": "1be1e9c6-37cf-4a5f-bfeb-04cab799dc80",
      "metadata": {
        "id": "1be1e9c6-37cf-4a5f-bfeb-04cab799dc80"
      },
      "source": [
        "4. Проверьте, насколько популярен Python в требованиях работодателей к DS. Для этого вычислите количество вакансий, в которых в качестве ключевого навыка указан Python.\n",
        "\n",
        "    *Это можно сделать помощью запроса, аналогичного предыдущему.*"
      ]
    },
    {
      "cell_type": "code",
      "execution_count": 24,
      "id": "0036a355-9ccf-4564-8b01-73d8194297e7",
      "metadata": {
        "id": "0036a355-9ccf-4564-8b01-73d8194297e7"
      },
      "outputs": [
        {
          "name": "stderr",
          "output_type": "stream",
          "text": [
            "/var/folders/gg/ypfqxl792w1dxtmn5g8btp6r0000gn/T/ipykernel_44100/751975489.py:20: UserWarning: pandas only supports SQLAlchemy connectable (engine/connection) or database string URI or sqlite3 DBAPI2 connection. Other DBAPI2 objects are not tested. Please consider using SQLAlchemy.\n",
            "  df_6_4 = pd.read_sql_query(query_6_4, connection)\n"
          ]
        },
        {
          "name": "stdout",
          "output_type": "stream",
          "text": [
            "Число вакансий, в которых в качестве ключевого навыка указан Python: 357\n"
          ]
        }
      ],
      "source": [
        "# текст запроса\n",
        "query_6_4 = f'''\n",
        "SELECT \n",
        "    COUNT(v.id) AS vacancies_count\n",
        "FROM\n",
        "    vacancies AS v\n",
        "WHERE \n",
        "    (\n",
        "        LOWER(v.name) LIKE '%data scientist%'\n",
        "        OR LOWER(v.name) LIKE '%data science%'\n",
        "        OR LOWER(v.name) LIKE '%исследователь данных%'\n",
        "        OR (LOWER(v.name) LIKE '%ml%' AND LOWER(v.name) NOT LIKE '%html%') \n",
        "        OR LOWER(v.name) LIKE '%machine learning%'\n",
        "        OR LOWER(v.name) LIKE '%машинн%обучен%'\n",
        "    )\n",
        "    AND\n",
        "        LOWER(v.key_skills) LIKE '%python%'   -- Упоминается Python в ключевых навыках\n",
        "'''\n",
        "# Выполнение SQL-запроса и загрузка результатов в DataFrame\n",
        "df_6_4 = pd.read_sql_query(query_6_4, connection)\n",
        "# Вывод результата\n",
        "print(f'Число вакансий, в которых в качестве ключевого навыка указан Python: {df_6_4.iloc[0, 0]}')"
      ]
    },
    {
      "cell_type": "markdown",
      "id": "8a67782a",
      "metadata": {},
      "source": [
        "**Результат запроса:**\n",
        "\n",
        "- Число **вакансий**, в которых в качестве **ключевого навыка указан Python**: \n",
        "**357**"
      ]
    },
    {
      "cell_type": "markdown",
      "id": "ec3c8db7-fa21-4a41-a994-1af63742a642",
      "metadata": {
        "id": "ec3c8db7-fa21-4a41-a994-1af63742a642"
      },
      "source": [
        "5. Сколько ключевых навыков в среднем указывают в вакансиях для DS?\n",
        "Ответ округлите до **двух знаков после точки-разделителя**."
      ]
    },
    {
      "cell_type": "code",
      "execution_count": 25,
      "id": "949132bc-d5b6-4611-8218-0b9a504d74f4",
      "metadata": {
        "id": "949132bc-d5b6-4611-8218-0b9a504d74f4"
      },
      "outputs": [
        {
          "name": "stderr",
          "output_type": "stream",
          "text": [
            "/var/folders/gg/ypfqxl792w1dxtmn5g8btp6r0000gn/T/ipykernel_44100/1432199864.py:27: UserWarning: pandas only supports SQLAlchemy connectable (engine/connection) or database string URI or sqlite3 DBAPI2 connection. Other DBAPI2 objects are not tested. Please consider using SQLAlchemy.\n",
            "  df_6_5 = pd.read_sql_query(query_6_5, connection)\n"
          ]
        },
        {
          "name": "stdout",
          "output_type": "stream",
          "text": [
            "Среднее число ключевых навыков в вакансиях для DS: 6.41\n"
          ]
        }
      ],
      "source": [
        "# текст запроса\n",
        "query_6_5 = f'''\n",
        "WITH query AS   -- Создание временной таблицы query\n",
        "(SELECT \n",
        "    v.id, \n",
        "    -- Вычисляем количество ключевых навыков в вакансии\n",
        "    -- Считаем общее количество символов в поле key_skills\n",
        "    -- Затем удаляем все символы табуляции ('\\t') и определяем разницу в длине\n",
        "    -- Прибавляем 1, так как навыки разделены табуляцией, и количество навыков на 1 больше количества разделителей\n",
        "    (LENGTH(v.key_skills) - LENGTH(REPLACE(v.key_skills, '\\t', '')) + 1) AS key_skills_count\n",
        "FROM\n",
        "    vacancies AS v\n",
        "WHERE \n",
        "        (LOWER(v.name) LIKE '%data scientist%'\n",
        "        OR LOWER(v.name) LIKE '%data science%'\n",
        "        OR LOWER(v.name) LIKE '%исследователь данных%'\n",
        "        OR (LOWER(v.name) LIKE '% ml %' AND LOWER(v.name) NOT LIKE '%html%')\n",
        "        OR LOWER(v.name) LIKE '%machine learning%'\n",
        "        OR LOWER(v.name) LIKE '%машинн%обучен%')\n",
        "        AND (v.key_skills IS NOT NULL AND v.key_skills <> '')  -- Исключаем вакансии без ключевых навыков\n",
        "GROUP BY v.id)                             -- Группируем по идентификатору вакансии\n",
        "-- Считаем среднее количество ключевых навыков и округляем до двух знаков\n",
        "SELECT ROUND(AVG(key_skills_count), 2)\n",
        "FROM query\n",
        "'''\n",
        "# Выполнение SQL-запроса и загрузка результатов в DataFrame\n",
        "df_6_5 = pd.read_sql_query(query_6_5, connection)\n",
        "# Вывод результата\n",
        "print(f'Среднее число ключевых навыков в вакансиях для DS: {df_6_5.iloc[0, 0]}')"
      ]
    },
    {
      "cell_type": "markdown",
      "id": "dfc79a7a",
      "metadata": {},
      "source": [
        "**Результат запроса:**\n",
        "\n",
        "- **Среднее число** ключевых навыков в вакансиях для DS: **6.41**"
      ]
    },
    {
      "cell_type": "markdown",
      "id": "1041c17a-ca8f-4543-a0ca-32778914fb00",
      "metadata": {
        "id": "1041c17a-ca8f-4543-a0ca-32778914fb00"
      },
      "source": [
        "6. Напишите запрос, позволяющий вычислить, какую зарплату для DS в среднем указывают для каждого типа требуемого опыта (уникальное значение из поля `experience`).\n",
        "\n",
        "    При решении задачи примите во внимание следующее:\n",
        "    1. Рассматриваем только вакансии, у которых заполнено хотя бы одно из двух полей с зарплатой.\n",
        "    2. Если заполнены оба поля с зарплатой, то считаем зарплату по каждой вакансии как сумму двух полей, делённую на 2. Если заполнено только одно из полей, то его и считаем зарплатой по вакансии.\n",
        "    3. Если в расчётах участвует `null`, в результате он тоже даст `null` (посмотрите, что возвращает запрос `select 1 + null`). Чтобы избежать этой ситуацию, мы воспользуемся функцией [coalesce](https://postgrespro.ru/docs/postgresql/9.5/functions-conditional#functions-coalesce-nvl-ifnull), которая заменит `null` на значение, которое мы передадим. Например, посмотрите, что возвращает запрос `select 1 + coalesce(null, 0)`\n",
        "\n",
        "    Выясните, на какую зарплату в среднем может рассчитывать дата-сайентист с опытом работы от 3 до 6 лет. Результат округлите до **целого числа**."
      ]
    },
    {
      "cell_type": "code",
      "execution_count": 26,
      "id": "6a743d39-5204-48d3-8271-b9f88e68d40e",
      "metadata": {
        "id": "6a743d39-5204-48d3-8271-b9f88e68d40e"
      },
      "outputs": [
        {
          "name": "stderr",
          "output_type": "stream",
          "text": [
            "/var/folders/gg/ypfqxl792w1dxtmn5g8btp6r0000gn/T/ipykernel_44100/2322478072.py:24: UserWarning: pandas only supports SQLAlchemy connectable (engine/connection) or database string URI or sqlite3 DBAPI2 connection. Other DBAPI2 objects are not tested. Please consider using SQLAlchemy.\n",
            "  df_6_6 = pd.read_sql_query(query_6_6, connection)\n"
          ]
        },
        {
          "name": "stdout",
          "output_type": "stream",
          "text": [
            "Средняя зарплата, на которую может расчитывать дата-сайентист с опытом работы от 3 до 6 лет: 243115.0\n"
          ]
        }
      ],
      "source": [
        "# текст запроса\n",
        "query_6_6 = f'''\n",
        "SELECT \n",
        "    v.experience AS experience, \n",
        "    ROUND(AVG(COALESCE(\n",
        "            -- Расчёт средней зарплаты для каждой вакансии (COALESCE, чтобы не было NULL)\n",
        "            ((v.salary_from + v.salary_to) / 2),      -- Если обе зарплаты указаны, берём среднее значение\n",
        "            v.salary_from,                            -- Если указана только минимальная зарплата, используем её\n",
        "            v.salary_to                               -- Если указана только максимальная зарплата, используем её\n",
        "            )), 0) AS avg_salary                      -- Округляем результат до целого числа\n",
        "FROM\n",
        "    vacancies AS v\n",
        "WHERE \n",
        "        (LOWER(v.name) LIKE '%data scientist%'\n",
        "        OR LOWER(v.name) LIKE '%data science%'\n",
        "        OR LOWER(v.name) LIKE '%исследователь данных%'\n",
        "        OR (v.name LIKE '%ML%' AND LOWER(v.name) NOT LIKE '%html%')\n",
        "        OR LOWER(v.name) LIKE '%machine learning%'\n",
        "        OR LOWER(v.name) LIKE '%машинн%обучен%')\n",
        "        -- Проверяем, что заполнено хотя бы одно из полей с зарплатой\n",
        "        AND (v.salary_from IS NOT NULL OR v.salary_to IS NOT NULL)\n",
        "GROUP BY v.experience  -- Группируем результаты по типу требуемого опыта\n",
        "'''\n",
        "df_6_6 = pd.read_sql_query(query_6_6, connection)\n",
        "print(f'Средняя зарплата, на которую может расчитывать дата-сайентист с опытом работы от 3 до 6 лет: {df_6_6['avg_salary'].loc[2]}')"
      ]
    },
    {
      "cell_type": "markdown",
      "id": "1ad241c9",
      "metadata": {},
      "source": [
        "**Результат запроса:**\n",
        "\n",
        "- **Средняя зарплата**, на которую может расчитывать дата-сайентист **с опытом работы от 3 до 6 лет**: **243115**"
      ]
    },
    {
      "cell_type": "markdown",
      "id": "6a7892b4-4113-4746-adce-18aa2844f18e",
      "metadata": {
        "id": "6a7892b4-4113-4746-adce-18aa2844f18e"
      },
      "source": [
        "***"
      ]
    },
    {
      "cell_type": "markdown",
      "id": "30f57edc",
      "metadata": {},
      "source": [
        "## Выводы по предметному анализу:\n",
        "\n",
        "1. Число вакансий, имеющих **отношение к данным** - **1771**;\n",
        "- Вакансии, имеющие отношение к данным, составляют значительную часть рынка труда, что указывает на высокий спрос;\n",
        "\n",
        "2. Число вакансий, соответствующих критериям для **начинающих специалистов и направленных на Data Science**, составляет **51**;\n",
        "- Cвидетельствует о том, что для старта в этой сфере требуется практический опыт;\n",
        "\n",
        "3. Число вакансий, связанных с **Data Science и требующих знания SQL или Postgres** в качестве ключевого навыка, составляет **229**;\n",
        "\n",
        "4. Число вакансий, связанных с **Data Science и требующих Python**, составляет **357**;\n",
        "\n",
        "5. **Среднее число ключевых навыков**, указанных в вакансиях для Data Science, составляет **6.41**;\n",
        "- Cвидетельствует о том, что работодатели часто ожидают от кандидатов наличия множества разнообразных навыков;\n",
        "\n",
        "6. **Средняя зарплата** для вакансий с опытом работы **от 3 до 6 лет** составляет **243 115** рублей;\n",
        "- Специалисты с опытом работы от 3 до 6 лет могут рассчитывать на стабильную и конкурентоспособную оплату труда))))"
      ]
    },
    {
      "cell_type": "markdown",
      "id": "c0ED6fh7wiBT",
      "metadata": {
        "id": "c0ED6fh7wiBT"
      },
      "source": [
        "## Общий вывод по проекту"
      ]
    },
    {
      "cell_type": "markdown",
      "id": "2a25d7f7",
      "metadata": {},
      "source": [
        "## Итог исследования\n",
        "1. **Общие данные о базе:**\n",
        "   - В базе данных представлено **49 197 вакансий**;\n",
        "   - Зарегистрировано **23 501 работодателей**, подтверждает высокую активность работодателей в поиске сотрудников;\n",
        "   - Вакансии представлены в **1 362 регионах**, обеспечивая широкий географический охват;\n",
        "   - База содержит информацию о **294 сферах деятельности**, что свидетельствует о многообразии направлений;\n",
        "\n",
        "2. **Региональные особенности:**\n",
        "   - **Москва** и **Санкт-Петербург** являются лидерами по количеству вакансий, за ними следуют **Минск**, **Новосибирск** и **Алматы**;\n",
        "   - Однако **Россия** лидирует среди регионов, где зарегистрированы **работодатели без вакансий**;\n",
        "\n",
        "3. **Зарплаты и условия труда:**\n",
        "   - Вакансии с заполненными полями по зарплате составляют **24 073 вакансии**; \n",
        "   - Средние значения зарплаты:\n",
        "     - **Нижняя граница зарплаты**: **71 065 рублей**;\n",
        "     - **Верхняя граница зарплаты**: **110 537 рублей**;\n",
        "\n",
        "4. **Тип занятости и график работы:**\n",
        "   - Самое популярное сочетание типов занятости — **Полная занятость** и **Удалённая работа**;\n",
        "\n",
        "5. **Распределение вакансий по опыту работы:**\n",
        "   - Максимальное количество вакансий сосредоточено в категории **от 1 года до 3 лет**;\n",
        "\n",
        "6. **Топ работодатель и охват:**\n",
        "   - **Яндекс** — работодатель с максимальным числом вакансий и охватом **181 региона**, что подчеркивает масштабы компании и её активную деятельность на рынке труда;\n",
        "\n",
        "7. **Специализация работодателей и вакансий:**\n",
        "   - **2ГИС** — многопрофильная компания, представившая **4 сферы деятельности**;\n",
        "   - Многие работодатели (**8419**) не указали сферу деятельности;\n",
        "\n",
        "8. **Сфера Data Science:**\n",
        "   - Вакансий, связанных с **Data Science**, насчитывается **1771** Подтверждает растущий интерес к специалистам в области данных и статистики;\n",
        "   - Для **начинающих специалистов в Data Science** число вакансий составляет **51**, что указывает на ограниченные возможности для соискателей без опыта, несмотря на высокий спрос на специалистов;\n",
        "   - Вакансии, требующие знания **SQL** или **Postgres**, составляют **229**, а вакансии, связанные с **Python**, — **357**. Эти навыки являются критически важными для работы в области Data Science;\n",
        "   - В среднем, вакансии в сфере Data Science требуют **6.41 ключевых навыков**, что демонстрирует высокие ожидания от кандидатов;\n",
        "\n",
        "9. **Средняя зарплата:**\n",
        "   - **Средняя зарплата для специалистов с опытом от 3 до 6 лет** составляет **243 115 рублей**, что подтверждает высокий уровень оплаты труда для профессионалов с опытом."
      ]
    },
    {
      "cell_type": "markdown",
      "id": "832174bb",
      "metadata": {},
      "source": [
        "## Дополнительные исследования данных"
      ]
    },
    {
      "cell_type": "markdown",
      "id": "819b15b9",
      "metadata": {},
      "source": [
        "### Анализ ключевых навыков (key_skills) в вакансиях"
      ]
    },
    {
      "cell_type": "markdown",
      "id": "1c769d12",
      "metadata": {},
      "source": [
        "- Определить, какие ключевые навыки наиболее востребованы в DS;\n",
        "- Построить столбчатую гистограмму \"Toп-10 ключевых навыков\";"
      ]
    },
    {
      "cell_type": "code",
      "execution_count": 27,
      "id": "b1200299",
      "metadata": {},
      "outputs": [],
      "source": [
        "import matplotlib.pyplot as plt\n",
        "from collections import Counter"
      ]
    },
    {
      "cell_type": "code",
      "execution_count": 28,
      "id": "4b4a5c7f",
      "metadata": {},
      "outputs": [
        {
          "name": "stderr",
          "output_type": "stream",
          "text": [
            "/var/folders/gg/ypfqxl792w1dxtmn5g8btp6r0000gn/T/ipykernel_44100/2781149165.py:19: UserWarning: pandas only supports SQLAlchemy connectable (engine/connection) or database string URI or sqlite3 DBAPI2 connection. Other DBAPI2 objects are not tested. Please consider using SQLAlchemy.\n",
            "  df = pd.read_sql_query(query, connection)\n"
          ]
        },
        {
          "data": {
            "image/png": "[encoded data removed]",
            "text/plain": [
              "<Figure size 1000x500 with 1 Axes>"
            ]
          },
          "metadata": {},
          "output_type": "display_data"
        }
      ],
      "source": [
        "# Выполняем SQL-запрос для получения ключевых навыков из вакансий\n",
        "query = f'''\n",
        "SELECT \n",
        "    v.key_skills       -- Выбор ключевых навыков\n",
        "FROM \n",
        "    vacancies v\n",
        "WHERE \n",
        "    (\n",
        "        LOWER(v.name) LIKE '%data scientist%'          -- Паттерны поиска вакансий для DS\n",
        "        OR LOWER(v.name) LIKE '%data science%'\n",
        "        OR LOWER(v.name) LIKE '%исследователь данных%'\n",
        "        OR (LOWER(v.name) LIKE '%ml%' AND LOWER(v.name) NOT LIKE '%html%') \n",
        "        OR LOWER(v.name) LIKE '%machine learning%'\n",
        "        OR LOWER(v.name) LIKE '%машинн%обучен%'\n",
        "    )\n",
        "    AND v.key_skills IS NOT NULL\n",
        "'''\n",
        "# Выполняем запрос и получаем результат в DataFrame\n",
        "df = pd.read_sql_query(query, connection)\n",
        "# Разделяем ключевые навыки по табуляции - \"\\t\"\n",
        "df_of_key_skills = [skills.split(\"\\t\") for skills in df['key_skills']]\n",
        "# Преобразуем список списков в один плоский список\n",
        "df_of_key_skills_flat = sum(df_of_key_skills, [])\n",
        "# Подсчитываем частоту каждого ключевого навыка с помощью Counter\n",
        "skills_counter = Counter()\n",
        "for key_skill in df_of_key_skills_flat:\n",
        "    skills_counter[key_skill] += 1\n",
        "# Преобразуем счетчик в DataFrame\n",
        "skills_df = pd.DataFrame(skills_counter.items(), columns=['Skill', 'Frequency'])\n",
        "# Сортируем по частоте и выбираем 10 самых популярных навыков\n",
        "skills_df = skills_df.sort_values(by='Frequency', ascending=False).head(10)\n",
        "\n",
        "# Создание графика (гистограмма) для 10 самых популярных навыков\n",
        "fig = plt.figure(figsize=(10, 5))    # Устанавливаем размер графика\n",
        "axes = fig.add_axes([0, 0, 1, 1])    # Устанавливаем оси графика\n",
        "# Строим солбчатую диаграмму\n",
        "res = axes.bar(x=skills_df['Skill'], height=skills_df['Frequency'])\n",
        "\n",
        "# Названия и подписи осей\n",
        "plt.title('Столбчатая гистограмма 10 ключевых навыков в вакансиях в Data Science')\n",
        "plt.xlabel('Ключевые навыки')\n",
        "plt.tick_params('x', rotation=45)   # Поворот подписей оси X для удобства\n",
        "plt.ylabel('Число вакансий')\n",
        "\n",
        "# Показать график\n",
        "plt.show()"
      ]
    },
    {
      "attachments": {
        "image-2.png": {
          "image/png": "[encoded data removed]"
        },
        "image.png": {
          "image/png": "[encoded data removed]"
        }
      },
      "cell_type": "markdown",
      "id": "97e6737a",
      "metadata": {},
      "source": [
        "![image.png](attachment:image.png)\n",
        "\n",
        "**Результаты и интерпретация**  \n",
        "\n",
        "На основе столбчатой гистограммы можно сделать следующие выводы:  \n",
        "\n",
        "1. **Ключевые навыки для Data Science**:\n",
        "   В большинстве вакансий для специалистов в области Data Science чаще всего требуются такие навыки, как:  \n",
        "   - **Python** — один из основных языков программирования для анализа данных;  \n",
        "   - **SQL** — важный инструмент для работы с базами данных;\n",
        "   - **Machine Learning** и **ML** — знания в области машинного обучения; \n",
        "   - **Git** — система контроля версий, необходимая для командной работы; \n",
        "   - **Математическая статистика**;\n",
        "\n",
        "2. **Неточности метода**:\n",
        "   - В данных присутствуют **навыки, указанные разными способами**, например, **Machine Learning** и **ML**. Хотя они обозначают одно и то же, они учитываются как разные признаки, что требует дополнительного анализа;  \n",
        "   - **Разница в числе упоминаний** некоторых навыков (например, для Python: 357 упоминаний при использовании метода `LIKE` против 354 в данном подходе) объясняется различиями в способах записи. Например, такие варианты, как \"Iron Python\" или \"Python + версия\", могут приводить к незначительным расхождениям.\n",
        "\n",
        "![image-2.png](attachment:image-2.png)\n",
        " \n",
        "Несмотря на небольшие неточности, данный анализ позволил выявить основные тенденции и самые востребованные навыки в области Data Science. Это подтверждает, что навыки программирования, работы с данными и математический анализ играют ключевую роль в обласьт наук о данных. "
      ]
    },
    {
      "cell_type": "markdown",
      "id": "ab244d9a",
      "metadata": {},
      "source": [
        "## Анализ зарплат DS по регионам"
      ]
    },
    {
      "cell_type": "markdown",
      "id": "c7223839",
      "metadata": {},
      "source": [
        "- Исследовать распределение средней заработной платы в разных регионах;\n",
        "- Построить гистограмму распределения средней заработной платы DS по регионам;"
      ]
    },
    {
      "cell_type": "code",
      "execution_count": 29,
      "id": "6d1bf9a6",
      "metadata": {},
      "outputs": [
        {
          "name": "stderr",
          "output_type": "stream",
          "text": [
            "/var/folders/gg/ypfqxl792w1dxtmn5g8btp6r0000gn/T/ipykernel_44100/54734247.py:28: UserWarning: pandas only supports SQLAlchemy connectable (engine/connection) or database string URI or sqlite3 DBAPI2 connection. Other DBAPI2 objects are not tested. Please consider using SQLAlchemy.\n",
            "  df_salary = pd.read_sql_query(query_salary, connection)\n"
          ]
        },
        {
          "data": {
            "image/png": "[encoded data removed]",
            "text/plain": [
              "<Figure size 1000x500 with 1 Axes>"
            ]
          },
          "metadata": {},
          "output_type": "display_data"
        }
      ],
      "source": [
        "# SQL-запрос для извлечения средней зарплаты по регионам\n",
        "query_salary = f'''\n",
        "SELECT \n",
        "    a.name AS region,       -- Имя региона\n",
        "    ROUND(AVG(COALESCE(\n",
        "            -- Расчёт средней зарплаты для каждой вакансии (COALESCE, чтобы не было NULL)\n",
        "            ((v.salary_from + v.salary_to) / 2),      -- Если обе зарплаты указаны, берём среднее значение\n",
        "            v.salary_from,                            -- Если указана только минимальная зарплата, используем её\n",
        "            v.salary_to                               -- Если указана только максимальная зарплата, используем её\n",
        "            )), 0) AS avg_salary                      -- Округляем результат до целого числа\n",
        "FROM\n",
        "    vacancies AS v\n",
        "JOIN \n",
        "    areas AS a ON v.area_id = a.id   -- Соединяем вакансии с регионами\n",
        "WHERE \n",
        "        (LOWER(v.name) LIKE '%data scientist%'            -- Используем паттерны\n",
        "        OR LOWER(v.name) LIKE '%data science%'\n",
        "        OR LOWER(v.name) LIKE '%исследователь данных%'\n",
        "        OR (v.name LIKE '%ML%' AND LOWER(v.name) NOT LIKE '%html%')\n",
        "        OR LOWER(v.name) LIKE '%machine learning%'\n",
        "        OR LOWER(v.name) LIKE '%машинн%обучен%')\n",
        "        -- Проверяем, что заполнено хотя бы одно из полей с зарплатой\n",
        "        AND (v.salary_from IS NOT NULL OR v.salary_to IS NOT NULL)\n",
        "GROUP BY a.name  -- Группируем результаты по регионам\n",
        "ORDER BY avg_salary DESC -- Сортируем по средней зарплате по убыванию\n",
        "'''\n",
        "# Выполняем запрос и сохраняем результаты в DataFrame\n",
        "df_salary = pd.read_sql_query(query_salary, connection)\n",
        "\n",
        "# Создание графика \n",
        "fig = plt.figure(figsize=(10, 5))    # Устанавливаем размер графика\n",
        "axes = fig.add_axes([0, 0, 1, 1])    # Устанавливаем оси графика\n",
        "# Строим солбчатую диаграмму\n",
        "res = axes.bar(x=df_salary['region'], height=df_salary['avg_salary'], color='tab:red')\n",
        "\n",
        "# Названия и подписи осей\n",
        "plt.title('Гистограмма распределения средней заработной платы DS по регионам')\n",
        "plt.xlabel('Название региона')\n",
        "plt.tick_params('x', rotation=45)   # Поворот подписей оси X для удобства\n",
        "plt.ylabel('Средняя зарплата')\n",
        "plt.grid()\n",
        "\n",
        "# Показать график\n",
        "plt.show()\n"
      ]
    },
    {
      "attachments": {
        "image.png": {
          "image/png": "[encoded data removed]"
        }
      },
      "cell_type": "markdown",
      "id": "a7bf1826",
      "metadata": {},
      "source": [
        "![image.png](attachment:image.png)\n",
        "\n",
        "**Результаты:**\n",
        "\n",
        "- На первом месте находится **Кипр**, где средняя заработная плата наиболее высокая, превышая 300 000, следом идут **Армения**, **Черногория** и **Турция**;\n",
        "- **Москва** находится в средней части графика, но значительно **выделяется среди российских регионов**; \n",
        "- **Санкт-Петербург** также входит в список, однако он **немного уступает Москве**;\n",
        "- Интересно, что **средняя заработная плата в Белгороде** практически сравнима **с московскими**;\n",
        "- Более **высокие зарплаты** в **международных регионах** показывают, что **работа в международных компаниях** остаётся выгоднее, чем в местных."
      ]
    },
    {
      "cell_type": "code",
      "execution_count": 30,
      "id": "789067c7",
      "metadata": {},
      "outputs": [],
      "source": [
        "# Закрываем соединение после окончания работы\n",
        "connection.close()"
      ]
    }
  ],
  "metadata": {
    "colab": {
      "collapsed_sections": [
        "8d62a9f3-f64e-4fe7-bdac-c4dffa16155e"
      ],
      "provenance": []
    },
    "kernelspec": {
      "display_name": "Python 3 (ipykernel)",
      "language": "python",
      "name": "python3"
    },
    "language_info": {
      "codemirror_mode": {
        "name": "ipython",
        "version": 3
      },
      "file_extension": ".py",
      "mimetype": "text/x-python",
      "name": "python",
      "nbconvert_exporter": "python",
      "pygments_lexer": "ipython3",
      "version": "3.12.4"
    }
  },
  "nbformat": 4,
  "nbformat_minor": 5
}
